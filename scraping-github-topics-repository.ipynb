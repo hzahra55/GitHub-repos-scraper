{
 "cells": [
  {
   "cell_type": "markdown",
   "id": "d54bf8a1-380f-43a0-81a2-bb7efa9f218b",
   "metadata": {},
   "source": [
    "# Scraping top Repos from Github\n"
   ]
  },
  {
   "cell_type": "markdown",
   "id": "5609e2e7-6c31-41f7-949f-6127372e0e70",
   "metadata": {},
   "source": [
    " ### Pick a website and describe your objective\n",
    "- Browse through different sites and pick on to scrape. Check the \"Project Ideas\" section for inspiration.\r",
    "- \n",
    "Identify the information you'd like to scrape from the site. Decide the format of the output CSV file\n",
    "- .\r\n",
    "Summarize your project idea and outline your strategy in a Juptyer notebook. Use the \"New\" button abov\n",
    "e.e."
   ]
  },
  {
   "cell_type": "markdown",
   "id": "0bf6f9f9-106a-47d2-b216-b2cccee32ad0",
   "metadata": {},
   "source": [
    "###  Project outline\n",
    "- use Python, Requests, Beautiful Soup, Panadas, Numpy\n",
    "- scrape github topics url 'https://github.com/topics'\n",
    "- list of topics and for each topic : rirle, topic url and topic desc\n",
    "    - for each topic : get top 20 repositories\n",
    "        - for each repository : repo name, username, stars, repo url\n",
    "- for each topic create a separate CSV"
   ]
  },
  {
   "cell_type": "markdown",
   "id": "ec59a9d9-f18d-4dc2-983e-02b6c4068a0b",
   "metadata": {},
   "source": [
    "## 1. Use the requests library to download web pages\n",
    "\n"
   ]
  },
  {
   "cell_type": "code",
   "execution_count": 8,
   "id": "42525ded-8314-4bc4-ab90-457f0361c7de",
   "metadata": {},
   "outputs": [
    {
     "name": "stdout",
     "output_type": "stream",
     "text": [
      "Requirement already satisfied: requests in c:\\users\\pc planet\\anaconda3\\lib\\site-packages (2.31.0)\n",
      "Requirement already satisfied: charset-normalizer<4,>=2 in c:\\users\\pc planet\\anaconda3\\lib\\site-packages (from requests) (2.0.4)\n",
      "Requirement already satisfied: idna<4,>=2.5 in c:\\users\\pc planet\\anaconda3\\lib\\site-packages (from requests) (3.4)\n",
      "Requirement already satisfied: urllib3<3,>=1.21.1 in c:\\users\\pc planet\\anaconda3\\lib\\site-packages (from requests) (2.0.7)\n",
      "Requirement already satisfied: certifi>=2017.4.17 in c:\\users\\pc planet\\anaconda3\\lib\\site-packages (from requests) (2024.2.2)\n"
     ]
    }
   ],
   "source": [
    "!pip install requests"
   ]
  },
  {
   "cell_type": "code",
   "execution_count": 9,
   "id": "eb75ea72-8ce0-471b-b565-676c3f365ff2",
   "metadata": {},
   "outputs": [
    {
     "name": "stdout",
     "output_type": "stream",
     "text": [
      "Requirement already satisfied: requests in c:\\users\\pc planet\\anaconda3\\lib\\site-packages (2.31.0)\n",
      "Collecting requests\n",
      "  Using cached requests-2.32.3-py3-none-any.whl.metadata (4.6 kB)\n",
      "Requirement already satisfied: charset-normalizer<4,>=2 in c:\\users\\pc planet\\anaconda3\\lib\\site-packages (from requests) (2.0.4)\n",
      "Requirement already satisfied: idna<4,>=2.5 in c:\\users\\pc planet\\anaconda3\\lib\\site-packages (from requests) (3.4)\n",
      "Requirement already satisfied: urllib3<3,>=1.21.1 in c:\\users\\pc planet\\anaconda3\\lib\\site-packages (from requests) (2.0.7)\n",
      "Requirement already satisfied: certifi>=2017.4.17 in c:\\users\\pc planet\\anaconda3\\lib\\site-packages (from requests) (2024.2.2)\n",
      "Using cached requests-2.32.3-py3-none-any.whl (64 kB)\n",
      "Installing collected packages: requests\n",
      "  Attempting uninstall: requests\n",
      "    Found existing installation: requests 2.31.0\n",
      "    Uninstalling requests-2.31.0:\n",
      "      Successfully uninstalled requests-2.31.0\n",
      "Successfully installed requests-2.32.3\n"
     ]
    },
    {
     "name": "stderr",
     "output_type": "stream",
     "text": [
      "ERROR: pip's dependency resolver does not currently take into account all the packages that are installed. This behaviour is the source of the following dependency conflicts.\n",
      "conda-repo-cli 1.0.75 requires requests_mock, which is not installed.\n",
      "conda-repo-cli 1.0.75 requires clyent==1.2.1, but you have clyent 1.2.2 which is incompatible.\n",
      "conda-repo-cli 1.0.75 requires requests==2.31.0, but you have requests 2.32.3 which is incompatible.\n"
     ]
    }
   ],
   "source": [
    "!pip install requests --upgrade "
   ]
  },
  {
   "cell_type": "code",
   "execution_count": 1,
   "id": "35dd6c3b-80ff-448f-b466-ce52a2b7eab5",
   "metadata": {},
   "outputs": [],
   "source": [
    "import requests"
   ]
  },
  {
   "cell_type": "code",
   "execution_count": 12,
   "id": "f46065d8-923d-4033-890d-92efd0457d32",
   "metadata": {},
   "outputs": [],
   "source": [
    "topics_url = \"https://github.com/topics\""
   ]
  },
  {
   "cell_type": "code",
   "execution_count": 13,
   "id": "619a2173-b352-423a-9f5b-ff952827831e",
   "metadata": {},
   "outputs": [],
   "source": [
    "response= requests.get(topics_url)"
   ]
  },
  {
   "cell_type": "code",
   "execution_count": 14,
   "id": "e3e68776-d349-4ffd-b5ac-bb335a09e24f",
   "metadata": {},
   "outputs": [
    {
     "data": {
      "text/plain": [
       "200"
      ]
     },
     "execution_count": 14,
     "metadata": {},
     "output_type": "execute_result"
    }
   ],
   "source": [
    "reponse.status_code"
   ]
  },
  {
   "cell_type": "code",
   "execution_count": 15,
   "id": "d901fd7a-df8d-47b0-b3e5-f42f0b09b4bf",
   "metadata": {},
   "outputs": [
    {
     "data": {
      "text/plain": [
       "202419"
      ]
     },
     "execution_count": 15,
     "metadata": {},
     "output_type": "execute_result"
    }
   ],
   "source": [
    "len(response.text)"
   ]
  },
  {
   "cell_type": "code",
   "execution_count": 16,
   "id": "4cfbbabf-4810-408f-80df-ea493e563987",
   "metadata": {},
   "outputs": [],
   "source": [
    "page_content = response.text"
   ]
  },
  {
   "cell_type": "code",
   "execution_count": 17,
   "id": "5342d14d-22e0-4731-b6bd-9446657660aa",
   "metadata": {},
   "outputs": [
    {
     "data": {
      "text/plain": [
       "'\\n\\n<!DOCTYPE html>\\n<html\\n  lang=\"en\"\\n  \\n  data-color-mode=\"auto\" data-light-theme=\"light\" data-dark-theme=\"dark\"\\n  data-a11y-animated-images=\"system\" data-a11y-link-underlines=\"true\"\\n  >\\n\\n\\n\\n  <head>\\n    <meta charset=\"utf-8\">\\n  <link rel=\"dns-prefetch\" href=\"https://github.githubassets.com\">\\n  <link rel=\"dns-prefetch\" href=\"https://avatars.githubusercontent.com\">\\n  <link rel=\"dns-prefetch\" href=\"https://github-cloud.s3.amazonaws.com\">\\n  <link rel=\"dns-prefetch\" href=\"https://user-images.githubusercontent.com/\">\\n  <link rel=\"preconnect\" href=\"https://github.githubassets.com\" crossorigin>\\n  <link rel=\"preconnect\" href=\"https://avatars.githubusercontent.com\">\\n\\n  \\n\\n  <link crossorigin=\"anonymous\" media=\"all\" rel=\"stylesheet\" href=\"https://github.githubassets.com/assets/light-efd2f2257c96.css\" /><link crossorigin=\"anonymous\" media=\"all\" rel=\"stylesheet\" href=\"https://github.githubassets.com/assets/dark-6b1e37da2254.css\" /><link data-color-theme=\"dark_dimmed\" crossorigin=\"anonymous\" media=\"al'"
      ]
     },
     "execution_count": 17,
     "metadata": {},
     "output_type": "execute_result"
    }
   ],
   "source": [
    "page_content[:1000]"
   ]
  },
  {
   "cell_type": "code",
   "execution_count": 19,
   "id": "df191546-0b53-43a8-b5d7-6b941d23f320",
   "metadata": {},
   "outputs": [],
   "source": [
    "with open('webpage.html', 'w', encoding='utf-8') as f:\n",
    "    f.write(page_content)\n"
   ]
  },
  {
   "cell_type": "markdown",
   "id": "be15e812-8c1b-4cce-a99d-e35f96ee801c",
   "metadata": {},
   "source": [
    "## Use Beautiful Soup to parse and extract information"
   ]
  },
  {
   "cell_type": "code",
   "execution_count": 20,
   "id": "1b3c27c1-dcd1-4f6a-a6ca-ec4ea0403ce3",
   "metadata": {},
   "outputs": [],
   "source": [
    "!pip install beautifulsoup4 --upgrade --quiet"
   ]
  },
  {
   "cell_type": "code",
   "execution_count": 22,
   "id": "646e0614-e4f9-4432-b293-b4c4bfae9754",
   "metadata": {},
   "outputs": [],
   "source": [
    "from bs4 import BeautifulSoup"
   ]
  },
  {
   "cell_type": "code",
   "execution_count": 24,
   "id": "be3fb611-955c-48e2-88fd-fa57b66b29bb",
   "metadata": {},
   "outputs": [],
   "source": [
    "doc = BeautifulSoup(page_content, 'html.parser')"
   ]
  },
  {
   "cell_type": "code",
   "execution_count": 23,
   "id": "b3a74523-e2fa-4837-8e23-9e3af2d3954a",
   "metadata": {},
   "outputs": [
    {
     "ename": "NameError",
     "evalue": "name 'doc' is not defined",
     "output_type": "error",
     "traceback": [
      "\u001b[1;31m---------------------------------------------------------------------------\u001b[0m",
      "\u001b[1;31mNameError\u001b[0m                                 Traceback (most recent call last)",
      "Cell \u001b[1;32mIn[23], line 1\u001b[0m\n\u001b[1;32m----> 1\u001b[0m \u001b[38;5;28mtype\u001b[39m(doc)\n",
      "\u001b[1;31mNameError\u001b[0m: name 'doc' is not defined"
     ]
    }
   ],
   "source": [
    "type(doc)"
   ]
  },
  {
   "cell_type": "code",
   "execution_count": 26,
   "id": "c791cb36-c974-483a-b229-fb1fc339454e",
   "metadata": {},
   "outputs": [
    {
     "data": {
      "text/plain": [
       "bs4.BeautifulSoup"
      ]
     },
     "execution_count": 26,
     "metadata": {},
     "output_type": "execute_result"
    }
   ],
   "source": [
    "type(doc)"
   ]
  },
  {
   "cell_type": "code",
   "execution_count": 37,
   "id": "33bce30a-cd58-465f-992d-82836cdd2c72",
   "metadata": {},
   "outputs": [],
   "source": [
    "topic_title_tags=doc.find_all('p',{\"class\":\"f3 lh-condensed mb-0 mt-1 Link--primary\"})"
   ]
  },
  {
   "cell_type": "code",
   "execution_count": 38,
   "id": "1be1061f-162c-42b2-80dc-de5675d4e0e6",
   "metadata": {},
   "outputs": [
    {
     "data": {
      "text/plain": [
       "30"
      ]
     },
     "execution_count": 38,
     "metadata": {},
     "output_type": "execute_result"
    }
   ],
   "source": [
    "len(pt)"
   ]
  },
  {
   "cell_type": "code",
   "execution_count": 39,
   "id": "283aeef3-5fca-4c96-a37c-8e1bc5445138",
   "metadata": {},
   "outputs": [
    {
     "data": {
      "text/plain": [
       "[<p class=\"f3 lh-condensed mb-0 mt-1 Link--primary\">3D</p>,\n",
       " <p class=\"f3 lh-condensed mb-0 mt-1 Link--primary\">Ajax</p>,\n",
       " <p class=\"f3 lh-condensed mb-0 mt-1 Link--primary\">Algorithm</p>,\n",
       " <p class=\"f3 lh-condensed mb-0 mt-1 Link--primary\">Amp</p>,\n",
       " <p class=\"f3 lh-condensed mb-0 mt-1 Link--primary\">Android</p>,\n",
       " <p class=\"f3 lh-condensed mb-0 mt-1 Link--primary\">Angular</p>,\n",
       " <p class=\"f3 lh-condensed mb-0 mt-1 Link--primary\">Ansible</p>,\n",
       " <p class=\"f3 lh-condensed mb-0 mt-1 Link--primary\">API</p>,\n",
       " <p class=\"f3 lh-condensed mb-0 mt-1 Link--primary\">Arduino</p>,\n",
       " <p class=\"f3 lh-condensed mb-0 mt-1 Link--primary\">ASP.NET</p>,\n",
       " <p class=\"f3 lh-condensed mb-0 mt-1 Link--primary\">Awesome Lists</p>,\n",
       " <p class=\"f3 lh-condensed mb-0 mt-1 Link--primary\">Amazon Web Services</p>,\n",
       " <p class=\"f3 lh-condensed mb-0 mt-1 Link--primary\">Azure</p>,\n",
       " <p class=\"f3 lh-condensed mb-0 mt-1 Link--primary\">Babel</p>,\n",
       " <p class=\"f3 lh-condensed mb-0 mt-1 Link--primary\">Bash</p>,\n",
       " <p class=\"f3 lh-condensed mb-0 mt-1 Link--primary\">Bitcoin</p>,\n",
       " <p class=\"f3 lh-condensed mb-0 mt-1 Link--primary\">Bootstrap</p>,\n",
       " <p class=\"f3 lh-condensed mb-0 mt-1 Link--primary\">Bot</p>,\n",
       " <p class=\"f3 lh-condensed mb-0 mt-1 Link--primary\">C</p>,\n",
       " <p class=\"f3 lh-condensed mb-0 mt-1 Link--primary\">Chrome</p>]"
      ]
     },
     "execution_count": 39,
     "metadata": {},
     "output_type": "execute_result"
    }
   ],
   "source": [
    "pt[:20]"
   ]
  },
  {
   "cell_type": "code",
   "execution_count": 41,
   "id": "5696c1b4-c990-4822-a94e-a13d086d14aa",
   "metadata": {},
   "outputs": [],
   "source": [
    "topic_title_tags=doc.find_all('p',{\"class\":\"f3 lh-condensed mb-0 mt-1 Link--primary\"})\n",
    "desc_selector = \"f5 color-fg-muted mb-0 mt-1\"\n",
    "topic_desc_tags = doc.find_all('p',{'class':desc_selector})\n"
   ]
  },
  {
   "cell_type": "code",
   "execution_count": 44,
   "id": "5ce72984-e9aa-4a0b-a5ba-38e3cf293a4f",
   "metadata": {},
   "outputs": [
    {
     "data": {
      "text/plain": [
       "[<p class=\"f5 color-fg-muted mb-0 mt-1\">\n",
       "           3D refers to the use of three-dimensional graphics, modeling, and animation in various industries.\n",
       "         </p>,\n",
       " <p class=\"f5 color-fg-muted mb-0 mt-1\">\n",
       "           Ajax is a technique for creating interactive web applications.\n",
       "         </p>,\n",
       " <p class=\"f5 color-fg-muted mb-0 mt-1\">\n",
       "           Algorithms are self-contained sequences that carry out a variety of tasks.\n",
       "         </p>,\n",
       " <p class=\"f5 color-fg-muted mb-0 mt-1\">\n",
       "           Amp is a non-blocking concurrency library for PHP.\n",
       "         </p>,\n",
       " <p class=\"f5 color-fg-muted mb-0 mt-1\">\n",
       "           Android is an operating system built by Google designed for mobile devices.\n",
       "         </p>]"
      ]
     },
     "execution_count": 44,
     "metadata": {},
     "output_type": "execute_result"
    }
   ],
   "source": [
    "topic_desc_tags[:5]"
   ]
  },
  {
   "cell_type": "code",
   "execution_count": 51,
   "id": "03eb6d4b-8194-4c3d-8412-d9a12af99dcc",
   "metadata": {},
   "outputs": [
    {
     "data": {
      "text/plain": [
       "<a class=\"no-underline flex-1 d-flex flex-column\" href=\"/topics/3d\">\n",
       "<p class=\"f3 lh-condensed mb-0 mt-1 Link--primary\">3D</p>\n",
       "<p class=\"f5 color-fg-muted mb-0 mt-1\">\n",
       "          3D refers to the use of three-dimensional graphics, modeling, and animation in various industries.\n",
       "        </p>\n",
       "</a>"
      ]
     },
     "execution_count": 51,
     "metadata": {},
     "output_type": "execute_result"
    }
   ],
   "source": [
    "#gettting url\n",
    "topic_title_tags[0].parent"
   ]
  },
  {
   "cell_type": "code",
   "execution_count": 54,
   "id": "a00aeeb3-9245-46ac-b42f-f0c6a0a219cf",
   "metadata": {},
   "outputs": [],
   "source": [
    "\n",
    "topic_link_tags = doc.find_all('a',{'class':'no-underline flex-grow-0'})"
   ]
  },
  {
   "cell_type": "code",
   "execution_count": 55,
   "id": "bf563e4e-4e09-4b71-8d6b-48a3b9488c34",
   "metadata": {},
   "outputs": [
    {
     "data": {
      "text/plain": [
       "30"
      ]
     },
     "execution_count": 55,
     "metadata": {},
     "output_type": "execute_result"
    }
   ],
   "source": [
    "len(topic_link_tags)"
   ]
  },
  {
   "cell_type": "code",
   "execution_count": 60,
   "id": "9c948b36-d30a-4b62-89a7-a9dc8c46c476",
   "metadata": {},
   "outputs": [
    {
     "name": "stdout",
     "output_type": "stream",
     "text": [
      "https://github.com/topics/3d\n"
     ]
    }
   ],
   "source": [
    "\n",
    "topic0_url = \"https://github.com\" + topic_link_tags[0]['href']\n",
    "print(topic0_url)\n"
   ]
  },
  {
   "cell_type": "code",
   "execution_count": 73,
   "id": "f8526205-2de1-440c-b208-77017429c776",
   "metadata": {},
   "outputs": [],
   "source": [
    "\n",
    "\n",
    "\n",
    "topic_titles = [ ]\n",
    "#to get list of topics\n",
    "for tag in topic_title_tags:\n",
    "    topic_titles.append(tag.text)\n",
    "\n",
    "\n",
    "\n",
    "\n"
   ]
  },
  {
   "cell_type": "code",
   "execution_count": 61,
   "id": "f96b7d7d-498c-400e-ab94-2bc703f656eb",
   "metadata": {},
   "outputs": [
    {
     "data": {
      "text/plain": [
       "['3D refers to the use of three-dimensional graphics, modeling, and animation in various industries.',\n",
       " 'Ajax is a technique for creating interactive web applications.',\n",
       " 'Algorithms are self-contained sequences that carry out a variety of tasks.',\n",
       " 'Amp is a non-blocking concurrency library for PHP.',\n",
       " 'Android is an operating system built by Google designed for mobile devices.']"
      ]
     },
     "execution_count": 61,
     "metadata": {},
     "output_type": "execute_result"
    }
   ],
   "source": [
    "topic_descs = [ ]\n",
    "for tag in topic_desc_tags:\n",
    "    topic_descs.append(tag.text.strip())\n",
    "topic_descs[:5]\n",
    "\n"
   ]
  },
  {
   "cell_type": "code",
   "execution_count": 223,
   "id": "b1056d03-1ed8-4f23-9188-b7e0024c8436",
   "metadata": {},
   "outputs": [],
   "source": [
    "topic_url = [ ]\n",
    "for tag in topic_link_tags:\n",
    "    topic_url.append('https://github.com' + tag['href'])"
   ]
  },
  {
   "cell_type": "code",
   "execution_count": 224,
   "id": "2ea1a179-2c7f-4f9c-a9ac-82af64c370bd",
   "metadata": {},
   "outputs": [
    {
     "data": {
      "text/plain": [
       "['https://github.com/topics/3d',\n",
       " 'https://github.com/topics/ajax',\n",
       " 'https://github.com/topics/algorithm',\n",
       " 'https://github.com/topics/amphp',\n",
       " 'https://github.com/topics/android',\n",
       " 'https://github.com/topics/angular',\n",
       " 'https://github.com/topics/ansible',\n",
       " 'https://github.com/topics/api',\n",
       " 'https://github.com/topics/arduino',\n",
       " 'https://github.com/topics/aspnet',\n",
       " 'https://github.com/topics/awesome',\n",
       " 'https://github.com/topics/aws',\n",
       " 'https://github.com/topics/azure',\n",
       " 'https://github.com/topics/babel',\n",
       " 'https://github.com/topics/bash',\n",
       " 'https://github.com/topics/bitcoin',\n",
       " 'https://github.com/topics/bootstrap',\n",
       " 'https://github.com/topics/bot',\n",
       " 'https://github.com/topics/c',\n",
       " 'https://github.com/topics/chrome',\n",
       " 'https://github.com/topics/chrome-extension',\n",
       " 'https://github.com/topics/cli',\n",
       " 'https://github.com/topics/clojure',\n",
       " 'https://github.com/topics/code-quality',\n",
       " 'https://github.com/topics/code-review',\n",
       " 'https://github.com/topics/compiler',\n",
       " 'https://github.com/topics/continuous-integration',\n",
       " 'https://github.com/topics/cpp',\n",
       " 'https://github.com/topics/cryptocurrency',\n",
       " 'https://github.com/topics/crystal']"
      ]
     },
     "execution_count": 224,
     "metadata": {},
     "output_type": "execute_result"
    }
   ],
   "source": [
    "topic_url"
   ]
  },
  {
   "cell_type": "code",
   "execution_count": null,
   "id": "2c6c9ada-a948-4d86-a28c-f07e1ec2e3bd",
   "metadata": {},
   "outputs": [],
   "source": [
    "#getting list of topics is done"
   ]
  },
  {
   "cell_type": "code",
   "execution_count": 66,
   "id": "01f31238-5d3c-44a1-bbbf-6761e10eb337",
   "metadata": {},
   "outputs": [],
   "source": [
    "#use pandas for  csv file"
   ]
  },
  {
   "cell_type": "code",
   "execution_count": 67,
   "id": "8bfeca69-5504-4ca5-9c6b-e0e6d960399a",
   "metadata": {},
   "outputs": [],
   "source": [
    "!pip install pandas --quiet"
   ]
  },
  {
   "cell_type": "code",
   "execution_count": 68,
   "id": "5131fdc9-3afe-4779-8e5b-9762da9f8bd4",
   "metadata": {},
   "outputs": [],
   "source": [
    " import pandas as pd"
   ]
  },
  {
   "cell_type": "code",
   "execution_count": null,
   "id": "1e72da5f-1351-4acb-bf7c-016ad20abc79",
   "metadata": {},
   "outputs": [],
   "source": [
    "topics_df = pd.dataframe"
   ]
  },
  {
   "cell_type": "code",
   "execution_count": 74,
   "id": "fab10efd-9ee0-4369-9c14-59ef7149c5dc",
   "metadata": {},
   "outputs": [],
   "source": [
    "topics_dict = {\n",
    "    'title' : topic_titles,\n",
    "    'description' : topic_descs,\n",
    "    'url' : topic_url\n",
    "\n",
    "}"
   ]
  },
  {
   "cell_type": "code",
   "execution_count": 76,
   "id": "ee05a505-704f-45c4-b060-cce160d870b3",
   "metadata": {},
   "outputs": [],
   "source": [
    "topic_df = pd.DataFrame(topics_dict) "
   ]
  },
  {
   "cell_type": "code",
   "execution_count": 80,
   "id": "69fe871d-24e2-4456-810f-e0dd3c1c0c23",
   "metadata": {},
   "outputs": [
    {
     "data": {
      "text/html": [
       "<div>\n",
       "<style scoped>\n",
       "    .dataframe tbody tr th:only-of-type {\n",
       "        vertical-align: middle;\n",
       "    }\n",
       "\n",
       "    .dataframe tbody tr th {\n",
       "        vertical-align: top;\n",
       "    }\n",
       "\n",
       "    .dataframe thead th {\n",
       "        text-align: right;\n",
       "    }\n",
       "</style>\n",
       "<table border=\"1\" class=\"dataframe\">\n",
       "  <thead>\n",
       "    <tr style=\"text-align: right;\">\n",
       "      <th></th>\n",
       "      <th>title</th>\n",
       "      <th>description</th>\n",
       "      <th>url</th>\n",
       "    </tr>\n",
       "  </thead>\n",
       "  <tbody>\n",
       "    <tr>\n",
       "      <th>0</th>\n",
       "      <td>3D</td>\n",
       "      <td>3D refers to the use of three-dimensional grap...</td>\n",
       "      <td>https://github.com/topics/3d</td>\n",
       "    </tr>\n",
       "    <tr>\n",
       "      <th>1</th>\n",
       "      <td>Ajax</td>\n",
       "      <td>Ajax is a technique for creating interactive w...</td>\n",
       "      <td>https://github.com/topics/ajax</td>\n",
       "    </tr>\n",
       "    <tr>\n",
       "      <th>2</th>\n",
       "      <td>Algorithm</td>\n",
       "      <td>Algorithms are self-contained sequences that c...</td>\n",
       "      <td>https://github.com/topics/algorithm</td>\n",
       "    </tr>\n",
       "    <tr>\n",
       "      <th>3</th>\n",
       "      <td>Amp</td>\n",
       "      <td>Amp is a non-blocking concurrency library for ...</td>\n",
       "      <td>https://github.com/topics/amphp</td>\n",
       "    </tr>\n",
       "    <tr>\n",
       "      <th>4</th>\n",
       "      <td>Android</td>\n",
       "      <td>Android is an operating system built by Google...</td>\n",
       "      <td>https://github.com/topics/android</td>\n",
       "    </tr>\n",
       "    <tr>\n",
       "      <th>5</th>\n",
       "      <td>Angular</td>\n",
       "      <td>Angular is an open source web application plat...</td>\n",
       "      <td>https://github.com/topics/angular</td>\n",
       "    </tr>\n",
       "    <tr>\n",
       "      <th>6</th>\n",
       "      <td>Ansible</td>\n",
       "      <td>Ansible is a simple and powerful automation en...</td>\n",
       "      <td>https://github.com/topics/ansible</td>\n",
       "    </tr>\n",
       "    <tr>\n",
       "      <th>7</th>\n",
       "      <td>API</td>\n",
       "      <td>An API (Application Programming Interface) is ...</td>\n",
       "      <td>https://github.com/topics/api</td>\n",
       "    </tr>\n",
       "    <tr>\n",
       "      <th>8</th>\n",
       "      <td>Arduino</td>\n",
       "      <td>Arduino is an open source platform for buildin...</td>\n",
       "      <td>https://github.com/topics/arduino</td>\n",
       "    </tr>\n",
       "    <tr>\n",
       "      <th>9</th>\n",
       "      <td>ASP.NET</td>\n",
       "      <td>ASP.NET is a web framework for building modern...</td>\n",
       "      <td>https://github.com/topics/aspnet</td>\n",
       "    </tr>\n",
       "    <tr>\n",
       "      <th>10</th>\n",
       "      <td>Awesome Lists</td>\n",
       "      <td>An awesome list is a list of awesome things cu...</td>\n",
       "      <td>https://github.com/topics/awesome</td>\n",
       "    </tr>\n",
       "    <tr>\n",
       "      <th>11</th>\n",
       "      <td>Amazon Web Services</td>\n",
       "      <td>Amazon Web Services provides on-demand cloud c...</td>\n",
       "      <td>https://github.com/topics/aws</td>\n",
       "    </tr>\n",
       "    <tr>\n",
       "      <th>12</th>\n",
       "      <td>Azure</td>\n",
       "      <td>Azure is a cloud computing service created by ...</td>\n",
       "      <td>https://github.com/topics/azure</td>\n",
       "    </tr>\n",
       "    <tr>\n",
       "      <th>13</th>\n",
       "      <td>Babel</td>\n",
       "      <td>Babel is a compiler for writing next generatio...</td>\n",
       "      <td>https://github.com/topics/babel</td>\n",
       "    </tr>\n",
       "    <tr>\n",
       "      <th>14</th>\n",
       "      <td>Bash</td>\n",
       "      <td>Bash is a shell and command language interpret...</td>\n",
       "      <td>https://github.com/topics/bash</td>\n",
       "    </tr>\n",
       "    <tr>\n",
       "      <th>15</th>\n",
       "      <td>Bitcoin</td>\n",
       "      <td>Bitcoin is a cryptocurrency developed by Satos...</td>\n",
       "      <td>https://github.com/topics/bitcoin</td>\n",
       "    </tr>\n",
       "    <tr>\n",
       "      <th>16</th>\n",
       "      <td>Bootstrap</td>\n",
       "      <td>Bootstrap is an HTML, CSS, and JavaScript fram...</td>\n",
       "      <td>https://github.com/topics/bootstrap</td>\n",
       "    </tr>\n",
       "    <tr>\n",
       "      <th>17</th>\n",
       "      <td>Bot</td>\n",
       "      <td>A bot is an application that runs automated ta...</td>\n",
       "      <td>https://github.com/topics/bot</td>\n",
       "    </tr>\n",
       "    <tr>\n",
       "      <th>18</th>\n",
       "      <td>C</td>\n",
       "      <td>C is a general purpose programming language th...</td>\n",
       "      <td>https://github.com/topics/c</td>\n",
       "    </tr>\n",
       "    <tr>\n",
       "      <th>19</th>\n",
       "      <td>Chrome</td>\n",
       "      <td>Chrome is a web browser from the tech company ...</td>\n",
       "      <td>https://github.com/topics/chrome</td>\n",
       "    </tr>\n",
       "    <tr>\n",
       "      <th>20</th>\n",
       "      <td>Chrome extension</td>\n",
       "      <td>Chrome extensions enable users to customize th...</td>\n",
       "      <td>https://github.com/topics/chrome-extension</td>\n",
       "    </tr>\n",
       "    <tr>\n",
       "      <th>21</th>\n",
       "      <td>Command-line interface</td>\n",
       "      <td>A CLI, or command-line interface, is a console...</td>\n",
       "      <td>https://github.com/topics/cli</td>\n",
       "    </tr>\n",
       "    <tr>\n",
       "      <th>22</th>\n",
       "      <td>Clojure</td>\n",
       "      <td>Clojure is a dynamic, general-purpose programm...</td>\n",
       "      <td>https://github.com/topics/clojure</td>\n",
       "    </tr>\n",
       "    <tr>\n",
       "      <th>23</th>\n",
       "      <td>Code quality</td>\n",
       "      <td>Automate your code review with style, quality,...</td>\n",
       "      <td>https://github.com/topics/code-quality</td>\n",
       "    </tr>\n",
       "    <tr>\n",
       "      <th>24</th>\n",
       "      <td>Code review</td>\n",
       "      <td>Ensure your code meets quality standards and s...</td>\n",
       "      <td>https://github.com/topics/code-review</td>\n",
       "    </tr>\n",
       "    <tr>\n",
       "      <th>25</th>\n",
       "      <td>Compiler</td>\n",
       "      <td>Compilers are software that translate higher-l...</td>\n",
       "      <td>https://github.com/topics/compiler</td>\n",
       "    </tr>\n",
       "    <tr>\n",
       "      <th>26</th>\n",
       "      <td>Continuous integration</td>\n",
       "      <td>Automatically build and test your code as you ...</td>\n",
       "      <td>https://github.com/topics/continuous-integration</td>\n",
       "    </tr>\n",
       "    <tr>\n",
       "      <th>27</th>\n",
       "      <td>C++</td>\n",
       "      <td>C++ is a general purpose and object-oriented p...</td>\n",
       "      <td>https://github.com/topics/cpp</td>\n",
       "    </tr>\n",
       "    <tr>\n",
       "      <th>28</th>\n",
       "      <td>Cryptocurrency</td>\n",
       "      <td>A cryptocurrency is a digital currency that us...</td>\n",
       "      <td>https://github.com/topics/cryptocurrency</td>\n",
       "    </tr>\n",
       "    <tr>\n",
       "      <th>29</th>\n",
       "      <td>Crystal</td>\n",
       "      <td>Crystal is a self-hosted, general purpose prog...</td>\n",
       "      <td>https://github.com/topics/crystal</td>\n",
       "    </tr>\n",
       "  </tbody>\n",
       "</table>\n",
       "</div>"
      ],
      "text/plain": [
       "                     title                                        description  \\\n",
       "0                       3D  3D refers to the use of three-dimensional grap...   \n",
       "1                     Ajax  Ajax is a technique for creating interactive w...   \n",
       "2                Algorithm  Algorithms are self-contained sequences that c...   \n",
       "3                      Amp  Amp is a non-blocking concurrency library for ...   \n",
       "4                  Android  Android is an operating system built by Google...   \n",
       "5                  Angular  Angular is an open source web application plat...   \n",
       "6                  Ansible  Ansible is a simple and powerful automation en...   \n",
       "7                      API  An API (Application Programming Interface) is ...   \n",
       "8                  Arduino  Arduino is an open source platform for buildin...   \n",
       "9                  ASP.NET  ASP.NET is a web framework for building modern...   \n",
       "10           Awesome Lists  An awesome list is a list of awesome things cu...   \n",
       "11     Amazon Web Services  Amazon Web Services provides on-demand cloud c...   \n",
       "12                   Azure  Azure is a cloud computing service created by ...   \n",
       "13                   Babel  Babel is a compiler for writing next generatio...   \n",
       "14                    Bash  Bash is a shell and command language interpret...   \n",
       "15                 Bitcoin  Bitcoin is a cryptocurrency developed by Satos...   \n",
       "16               Bootstrap  Bootstrap is an HTML, CSS, and JavaScript fram...   \n",
       "17                     Bot  A bot is an application that runs automated ta...   \n",
       "18                       C  C is a general purpose programming language th...   \n",
       "19                  Chrome  Chrome is a web browser from the tech company ...   \n",
       "20        Chrome extension  Chrome extensions enable users to customize th...   \n",
       "21  Command-line interface  A CLI, or command-line interface, is a console...   \n",
       "22                 Clojure  Clojure is a dynamic, general-purpose programm...   \n",
       "23            Code quality  Automate your code review with style, quality,...   \n",
       "24             Code review  Ensure your code meets quality standards and s...   \n",
       "25                Compiler  Compilers are software that translate higher-l...   \n",
       "26  Continuous integration  Automatically build and test your code as you ...   \n",
       "27                     C++  C++ is a general purpose and object-oriented p...   \n",
       "28          Cryptocurrency  A cryptocurrency is a digital currency that us...   \n",
       "29                 Crystal  Crystal is a self-hosted, general purpose prog...   \n",
       "\n",
       "                                                 url  \n",
       "0                       https://github.com/topics/3d  \n",
       "1                     https://github.com/topics/ajax  \n",
       "2                https://github.com/topics/algorithm  \n",
       "3                    https://github.com/topics/amphp  \n",
       "4                  https://github.com/topics/android  \n",
       "5                  https://github.com/topics/angular  \n",
       "6                  https://github.com/topics/ansible  \n",
       "7                      https://github.com/topics/api  \n",
       "8                  https://github.com/topics/arduino  \n",
       "9                   https://github.com/topics/aspnet  \n",
       "10                 https://github.com/topics/awesome  \n",
       "11                     https://github.com/topics/aws  \n",
       "12                   https://github.com/topics/azure  \n",
       "13                   https://github.com/topics/babel  \n",
       "14                    https://github.com/topics/bash  \n",
       "15                 https://github.com/topics/bitcoin  \n",
       "16               https://github.com/topics/bootstrap  \n",
       "17                     https://github.com/topics/bot  \n",
       "18                       https://github.com/topics/c  \n",
       "19                  https://github.com/topics/chrome  \n",
       "20        https://github.com/topics/chrome-extension  \n",
       "21                     https://github.com/topics/cli  \n",
       "22                 https://github.com/topics/clojure  \n",
       "23            https://github.com/topics/code-quality  \n",
       "24             https://github.com/topics/code-review  \n",
       "25                https://github.com/topics/compiler  \n",
       "26  https://github.com/topics/continuous-integration  \n",
       "27                     https://github.com/topics/cpp  \n",
       "28          https://github.com/topics/cryptocurrency  \n",
       "29                 https://github.com/topics/crystal  "
      ]
     },
     "execution_count": 80,
     "metadata": {},
     "output_type": "execute_result"
    }
   ],
   "source": [
    "topic_df"
   ]
  },
  {
   "cell_type": "markdown",
   "id": "ea0f6791-f8b3-4d14-a35e-5ae186932114",
   "metadata": {},
   "source": [
    "## Create CSV file(s) with the extracted information"
   ]
  },
  {
   "cell_type": "code",
   "execution_count": 85,
   "id": "b40bc5fc-bdbb-4a5a-9705-76c92b7e1dae",
   "metadata": {},
   "outputs": [],
   "source": [
    "topic_df.to_csv('topics.csv',index=None )"
   ]
  },
  {
   "cell_type": "markdown",
   "id": "1a3ca567-994e-43f9-b292-985753b19e45",
   "metadata": {},
   "source": [
    " ## Get information out of topic page"
   ]
  },
  {
   "cell_type": "code",
   "execution_count": 86,
   "id": "7d4061ad-48e1-4cb6-84cc-01c628c69657",
   "metadata": {},
   "outputs": [],
   "source": [
    "topic1 = topic_url[0]"
   ]
  },
  {
   "cell_type": "code",
   "execution_count": 87,
   "id": "edf4728c-4728-4ae9-b99f-ac7faa7c7c65",
   "metadata": {},
   "outputs": [
    {
     "data": {
      "text/plain": [
       "'https://github.com/topics/3d'"
      ]
     },
     "execution_count": 87,
     "metadata": {},
     "output_type": "execute_result"
    }
   ],
   "source": [
    "topic1"
   ]
  },
  {
   "cell_type": "code",
   "execution_count": 89,
   "id": "e60e6f1e-da1b-4acf-8db2-134d24a60432",
   "metadata": {},
   "outputs": [],
   "source": [
    "response = requests.get(topic1)"
   ]
  },
  {
   "cell_type": "code",
   "execution_count": 91,
   "id": "7d2daf03-a11f-43e9-8a20-f2dfd1258149",
   "metadata": {},
   "outputs": [
    {
     "data": {
      "text/plain": [
       "200"
      ]
     },
     "execution_count": 91,
     "metadata": {},
     "output_type": "execute_result"
    }
   ],
   "source": [
    "response.status_code"
   ]
  },
  {
   "cell_type": "code",
   "execution_count": 92,
   "id": "e3dbbb23-bb04-4d4b-9fe6-e18e3b947a95",
   "metadata": {},
   "outputs": [
    {
     "data": {
      "text/plain": [
       "522109"
      ]
     },
     "execution_count": 92,
     "metadata": {},
     "output_type": "execute_result"
    }
   ],
   "source": [
    "len(response.text)"
   ]
  },
  {
   "cell_type": "code",
   "execution_count": 93,
   "id": "bfbf4556-7626-4134-92a0-cb4cb3a2c6c9",
   "metadata": {},
   "outputs": [],
   "source": [
    "topic1_doc=BeautifulSoup(response.text, 'html.parser')"
   ]
  },
  {
   "cell_type": "code",
   "execution_count": 100,
   "id": "4ea7450f-01aa-4169-b0c5-bfd15897f2ab",
   "metadata": {},
   "outputs": [],
   "source": [
    "repo_tags = topic1_doc.find_all('h3', {'class' : 'f3 color-fg-muted text-normal lh-condensed'}\n",
    "                                   )"
   ]
  },
  {
   "cell_type": "code",
   "execution_count": 101,
   "id": "66fa32c7-26e9-49af-9514-ccbc1d8ccfdf",
   "metadata": {},
   "outputs": [
    {
     "data": {
      "text/plain": [
       "20"
      ]
     },
     "execution_count": 101,
     "metadata": {},
     "output_type": "execute_result"
    }
   ],
   "source": [
    "len(repo_tags)"
   ]
  },
  {
   "cell_type": "code",
   "execution_count": 103,
   "id": "987c418d-4b79-4a20-b39f-7a2dce68dc84",
   "metadata": {},
   "outputs": [],
   "source": [
    "a_tags_rep1 = repo_tags[0].find_all('a')"
   ]
  },
  {
   "cell_type": "code",
   "execution_count": 106,
   "id": "c78e7dc4-735e-463a-94ba-95e49f8df6f8",
   "metadata": {},
   "outputs": [
    {
     "data": {
      "text/plain": [
       "[<a class=\"Link\" data-hydro-click='{\"event_type\":\"explore.click\",\"payload\":{\"click_context\":\"REPOSITORY_CARD\",\"click_target\":\"OWNER\",\"click_visual_representation\":\"REPOSITORY_OWNER_HEADING\",\"actor_id\":null,\"record_id\":97088,\"originating_url\":\"https://github.com/topics/3d\",\"user_id\":null}}' data-hydro-click-hmac=\"c72fbd5c69a8ee7c9c53a4e65de2b93c8fc7552dd793945819639bc165c0f0ba\" data-turbo=\"false\" data-view-component=\"true\" href=\"/mrdoob\">\n",
       "             mrdoob\n",
       " </a>,\n",
       " <a class=\"Link text-bold wb-break-word\" data-hydro-click='{\"event_type\":\"explore.click\",\"payload\":{\"click_context\":\"REPOSITORY_CARD\",\"click_target\":\"REPOSITORY\",\"click_visual_representation\":\"REPOSITORY_NAME_HEADING\",\"actor_id\":null,\"record_id\":576201,\"originating_url\":\"https://github.com/topics/3d\",\"user_id\":null}}' data-hydro-click-hmac=\"4a2667db3d63a1739c412e059e5da95afe419df83f70949b5d59dc3478f5c79a\" data-turbo=\"false\" data-view-component=\"true\" href=\"/mrdoob/three.js\">\n",
       "             three.js\n",
       " </a>]"
      ]
     },
     "execution_count": 106,
     "metadata": {},
     "output_type": "execute_result"
    }
   ],
   "source": [
    "a_tags_rep1  #first tag username(+url for user), second tag containing repository name(+url for repository)"
   ]
  },
  {
   "cell_type": "code",
   "execution_count": 108,
   "id": "7d58e630-60ea-4a9b-9840-fe0df25ebd7f",
   "metadata": {},
   "outputs": [
    {
     "data": {
      "text/plain": [
       "'mrdoob'"
      ]
     },
     "execution_count": 108,
     "metadata": {},
     "output_type": "execute_result"
    }
   ],
   "source": [
    "a_tags_rep1[0].text.strip()"
   ]
  },
  {
   "cell_type": "code",
   "execution_count": 109,
   "id": "da7a0d98-cd7e-4fe5-a9f1-3dba7b630ebc",
   "metadata": {},
   "outputs": [
    {
     "data": {
      "text/plain": [
       "'three.js'"
      ]
     },
     "execution_count": 109,
     "metadata": {},
     "output_type": "execute_result"
    }
   ],
   "source": [
    "a_tags_rep1[1].text.strip()"
   ]
  },
  {
   "cell_type": "code",
   "execution_count": 112,
   "id": "d1acb020-4329-45e9-8447-08bba792ad30",
   "metadata": {},
   "outputs": [
    {
     "data": {
      "text/plain": [
       "'https://github.com/mrdoob/three.js'"
      ]
     },
     "execution_count": 112,
     "metadata": {},
     "output_type": "execute_result"
    }
   ],
   "source": [
    "# for rep url\n",
    "base_url = 'https://github.com'\n",
    "a_tags_rep1_url = base_url + a_tags_rep1[1]['href']\n",
    "a_tags_rep1_url"
   ]
  },
  {
   "cell_type": "code",
   "execution_count": 199,
   "id": "b6f7259d-017d-47ae-894d-9964132fc6f5",
   "metadata": {},
   "outputs": [
    {
     "data": {
      "text/plain": [
       "20"
      ]
     },
     "execution_count": 199,
     "metadata": {},
     "output_type": "execute_result"
    }
   ],
   "source": [
    "# for stars\n",
    "star_tags = topic1_doc.find_all('span', {'class' : 'Counter js-social-count'})\n",
    "len(star_tags)"
   ]
  },
  {
   "cell_type": "code",
   "execution_count": 225,
   "id": "d46a6e2c-4886-423a-b68c-e95f9e13a350",
   "metadata": {},
   "outputs": [
    {
     "data": {
      "text/plain": [
       "['https://github.com/topics/3d',\n",
       " 'https://github.com/topics/ajax',\n",
       " 'https://github.com/topics/algorithm',\n",
       " 'https://github.com/topics/amphp',\n",
       " 'https://github.com/topics/android',\n",
       " 'https://github.com/topics/angular',\n",
       " 'https://github.com/topics/ansible',\n",
       " 'https://github.com/topics/api',\n",
       " 'https://github.com/topics/arduino',\n",
       " 'https://github.com/topics/aspnet',\n",
       " 'https://github.com/topics/awesome',\n",
       " 'https://github.com/topics/aws',\n",
       " 'https://github.com/topics/azure',\n",
       " 'https://github.com/topics/babel',\n",
       " 'https://github.com/topics/bash',\n",
       " 'https://github.com/topics/bitcoin',\n",
       " 'https://github.com/topics/bootstrap',\n",
       " 'https://github.com/topics/bot',\n",
       " 'https://github.com/topics/c',\n",
       " 'https://github.com/topics/chrome',\n",
       " 'https://github.com/topics/chrome-extension',\n",
       " 'https://github.com/topics/cli',\n",
       " 'https://github.com/topics/clojure',\n",
       " 'https://github.com/topics/code-quality',\n",
       " 'https://github.com/topics/code-review',\n",
       " 'https://github.com/topics/compiler',\n",
       " 'https://github.com/topics/continuous-integration',\n",
       " 'https://github.com/topics/cpp',\n",
       " 'https://github.com/topics/cryptocurrency',\n",
       " 'https://github.com/topics/crystal']"
      ]
     },
     "execution_count": 225,
     "metadata": {},
     "output_type": "execute_result"
    }
   ],
   "source": [
    "topic_url"
   ]
  },
  {
   "cell_type": "code",
   "execution_count": 201,
   "id": "6566d2e8-d5b0-409a-9201-3fc8fe23e26b",
   "metadata": {},
   "outputs": [],
   "source": [
    "def parse_star_count(stars_str):\n",
    "    stars_str =  stars_str.strip()\n",
    "    if stars_str[-1] == 'k' :\n",
    "        return int(float(stars_str[:-1]) *1000)\n",
    "    #if no k\n",
    "    return int(stars_str)\n",
    "\n",
    "        "
   ]
  },
  {
   "cell_type": "code",
   "execution_count": 142,
   "id": "dca66e86-0529-4d12-abe9-eb7d9f2a7b55",
   "metadata": {},
   "outputs": [
    {
     "data": {
      "text/plain": [
       "101000"
      ]
     },
     "execution_count": 142,
     "metadata": {},
     "output_type": "execute_result"
    }
   ],
   "source": [
    "parse_star_count(star_tags[0].text)"
   ]
  },
  {
   "cell_type": "code",
   "execution_count": 143,
   "id": "85b57543-c3af-4230-a05b-e48e8be474dd",
   "metadata": {},
   "outputs": [],
   "source": [
    "rel_tag_all = topic1_doc.find_all('div', {'class':'d-flex flex-wrap border-bottom color-border-muted px-3 pt-2 pb-2'})"
   ]
  },
  {
   "cell_type": "code",
   "execution_count": 159,
   "id": "528d900c-2d9b-402b-bc63-83f22317ac4b",
   "metadata": {},
   "outputs": [
    {
     "data": {
      "text/plain": [
       "[<a class=\"topic-tag topic-tag-link Link f6 mb-2\" data-hydro-click='{\"event_type\":\"explore.click\",\"payload\":{\"click_context\":\"REPOSITORY_CARD\",\"click_target\":\"TOPIC\",\"click_visual_representation\":\"TOPIC_TAG\",\"actor_id\":null,\"record_id\":40,\"originating_url\":\"https://github.com/topics/3d\",\"user_id\":null}}' data-hydro-click-hmac=\"c210e1d6c04712f25ce2ff1cf73cc382178d551beb6e00535c440e4b0f8eaa2f\" data-view-component=\"true\" href=\"/topics/javascript\" title=\"Topic: javascript\">\n",
       "             javascript\n",
       " </a>,\n",
       " <a class=\"topic-tag topic-tag-link Link f6 mb-2\" data-hydro-click='{\"event_type\":\"explore.click\",\"payload\":{\"click_context\":\"REPOSITORY_CARD\",\"click_target\":\"TOPIC\",\"click_visual_representation\":\"TOPIC_TAG\",\"actor_id\":null,\"record_id\":123,\"originating_url\":\"https://github.com/topics/3d\",\"user_id\":null}}' data-hydro-click-hmac=\"7f6959e42df84521252b169278d540e3b07ea9c9c47b82ed045f017e8e76149e\" data-view-component=\"true\" href=\"/topics/svg\" title=\"Topic: svg\">\n",
       "             svg\n",
       " </a>,\n",
       " <a class=\"topic-tag topic-tag-link Link f6 mb-2\" data-hydro-click='{\"event_type\":\"explore.click\",\"payload\":{\"click_context\":\"REPOSITORY_CARD\",\"click_target\":\"TOPIC\",\"click_visual_representation\":\"TOPIC_TAG\",\"actor_id\":null,\"record_id\":2119,\"originating_url\":\"https://github.com/topics/3d\",\"user_id\":null}}' data-hydro-click-hmac=\"5d11ea68e12653a3d5b7f8f6780c85c5aa5a54ae9e14421872d1f02b4ba63126\" data-view-component=\"true\" href=\"/topics/webgl\" title=\"Topic: webgl\">\n",
       "             webgl\n",
       " </a>,\n",
       " <a class=\"topic-tag topic-tag-link Link f6 mb-2\" data-hydro-click='{\"event_type\":\"explore.click\",\"payload\":{\"click_context\":\"REPOSITORY_CARD\",\"click_target\":\"TOPIC\",\"click_visual_representation\":\"TOPIC_TAG\",\"actor_id\":null,\"record_id\":9045,\"originating_url\":\"https://github.com/topics/3d\",\"user_id\":null}}' data-hydro-click-hmac=\"22746d1c61b044e9fd43452b4f7c47ab80550a9de21a7f742003390230b1b662\" data-view-component=\"true\" href=\"/topics/html5\" title=\"Topic: html5\">\n",
       "             html5\n",
       " </a>,\n",
       " <a class=\"topic-tag topic-tag-link Link f6 mb-2\" data-hydro-click='{\"event_type\":\"explore.click\",\"payload\":{\"click_context\":\"REPOSITORY_CARD\",\"click_target\":\"TOPIC\",\"click_visual_representation\":\"TOPIC_TAG\",\"actor_id\":null,\"record_id\":9049,\"originating_url\":\"https://github.com/topics/3d\",\"user_id\":null}}' data-hydro-click-hmac=\"26a24ee46de17a9cb8b9b93e12e1732a0cab74a2e1334853d09138e53fe331b6\" data-view-component=\"true\" href=\"/topics/canvas\" title=\"Topic: canvas\">\n",
       "             canvas\n",
       " </a>,\n",
       " <a class=\"topic-tag topic-tag-link Link f6 mb-2\" data-hydro-click='{\"event_type\":\"explore.click\",\"payload\":{\"click_context\":\"REPOSITORY_CARD\",\"click_target\":\"TOPIC\",\"click_visual_representation\":\"TOPIC_TAG\",\"actor_id\":null,\"record_id\":12758,\"originating_url\":\"https://github.com/topics/3d\",\"user_id\":null}}' data-hydro-click-hmac=\"22cfdb2c7a1c8c57ba6292d2f526f5cb459f85c56a7f232dd53e894b21104a3c\" data-view-component=\"true\" href=\"/topics/augmented-reality\" title=\"Topic: augmented-reality\">\n",
       "             augmented-reality\n",
       " </a>,\n",
       " <a class=\"topic-tag topic-tag-link Link f6 mb-2\" data-hydro-click='{\"event_type\":\"explore.click\",\"payload\":{\"click_context\":\"REPOSITORY_CARD\",\"click_target\":\"TOPIC\",\"click_visual_representation\":\"TOPIC_TAG\",\"actor_id\":null,\"record_id\":22694,\"originating_url\":\"https://github.com/topics/3d\",\"user_id\":null}}' data-hydro-click-hmac=\"6e96bce943ab0307606dea5a9614927ffc34bac3e3fd4cfaf4fe7eeba0a8f62d\" data-view-component=\"true\" href=\"/topics/webaudio\" title=\"Topic: webaudio\">\n",
       "             webaudio\n",
       " </a>,\n",
       " <a class=\"topic-tag topic-tag-link Link f6 mb-2\" data-hydro-click='{\"event_type\":\"explore.click\",\"payload\":{\"click_context\":\"REPOSITORY_CARD\",\"click_target\":\"TOPIC\",\"click_visual_representation\":\"TOPIC_TAG\",\"actor_id\":null,\"record_id\":28032,\"originating_url\":\"https://github.com/topics/3d\",\"user_id\":null}}' data-hydro-click-hmac=\"3ff9cee664df88a7d57a1b3d1892882e2cf6849b29906d5c1d8c34563d03ce65\" data-view-component=\"true\" href=\"/topics/virtual-reality\" title=\"Topic: virtual-reality\">\n",
       "             virtual-reality\n",
       " </a>,\n",
       " <a class=\"topic-tag topic-tag-link Link f6 mb-2\" data-hydro-click='{\"event_type\":\"explore.click\",\"payload\":{\"click_context\":\"REPOSITORY_CARD\",\"click_target\":\"TOPIC\",\"click_visual_representation\":\"TOPIC_TAG\",\"actor_id\":null,\"record_id\":177465,\"originating_url\":\"https://github.com/topics/3d\",\"user_id\":null}}' data-hydro-click-hmac=\"d5041eb0c30dc017fb1cd96b2908ad08221dd62d7239cec59efc8d9c7d3fea1c\" data-view-component=\"true\" href=\"/topics/webgl2\" title=\"Topic: webgl2\">\n",
       "             webgl2\n",
       " </a>,\n",
       " <a class=\"topic-tag topic-tag-link Link f6 mb-2\" data-hydro-click='{\"event_type\":\"explore.click\",\"payload\":{\"click_context\":\"REPOSITORY_CARD\",\"click_target\":\"TOPIC\",\"click_visual_representation\":\"TOPIC_TAG\",\"actor_id\":null,\"record_id\":238400,\"originating_url\":\"https://github.com/topics/3d\",\"user_id\":null}}' data-hydro-click-hmac=\"064f63510df6f663157098a6f96cc6e4589c2754b02f24874546e5fee55fe6de\" data-view-component=\"true\" href=\"/topics/3d\" title=\"Topic: 3d\">\n",
       "             3d\n",
       " </a>,\n",
       " <a class=\"topic-tag topic-tag-link Link f6 mb-2\" data-hydro-click='{\"event_type\":\"explore.click\",\"payload\":{\"click_context\":\"REPOSITORY_CARD\",\"click_target\":\"TOPIC\",\"click_visual_representation\":\"TOPIC_TAG\",\"actor_id\":null,\"record_id\":353880,\"originating_url\":\"https://github.com/topics/3d\",\"user_id\":null}}' data-hydro-click-hmac=\"f0045720271ea91ead032dcfe0c2bffe0bcf1b7987206f84c55619212808b3c2\" data-view-component=\"true\" href=\"/topics/webgpu\" title=\"Topic: webgpu\">\n",
       "             webgpu\n",
       " </a>,\n",
       " <a class=\"topic-tag topic-tag-link Link f6 mb-2\" data-hydro-click='{\"event_type\":\"explore.click\",\"payload\":{\"click_context\":\"REPOSITORY_CARD\",\"click_target\":\"TOPIC\",\"click_visual_representation\":\"TOPIC_TAG\",\"actor_id\":null,\"record_id\":571668,\"originating_url\":\"https://github.com/topics/3d\",\"user_id\":null}}' data-hydro-click-hmac=\"0cc74fef6737d382ad4a3cbc0304e323d661dc33f04d02ca887a5cbfc4e05f6c\" data-view-component=\"true\" href=\"/topics/webxr\" title=\"Topic: webxr\">\n",
       "             webxr\n",
       " </a>]"
      ]
     },
     "execution_count": 159,
     "metadata": {},
     "output_type": "execute_result"
    }
   ],
   "source": [
    "rel_tag_all = topic1_doc.find_all('div', {'class':'d-flex flex-wrap border-bottom color-border-muted px-3 pt-2 pb-2'})\n",
    "rel_tag =  rel_tag_all[0].find_all('a')\n",
    "rel_tag"
   ]
  },
  {
   "cell_type": "code",
   "execution_count": 170,
   "id": "14ea1a81-f4ac-4af9-9b37-641062a7602f",
   "metadata": {},
   "outputs": [
    {
     "data": {
      "text/plain": [
       "'javascript svg webgl html5 canvas augmented-reality webaudio virtual-reality webgl2 3d webgpu webxr'"
      ]
     },
     "execution_count": 170,
     "metadata": {},
     "output_type": "execute_result"
    }
   ],
   "source": [
    " def get_related_tags(rel_tag):\n",
    "     related_tags = [ ]\n",
    "     for tag in rel_tag:\n",
    "         related_tags.append(tag.text.strip())\n",
    "     return ' '.join(related_tags)                            \n",
    " \n",
    "             \n",
    "get_related_tags( rel_tag)"
   ]
  },
  {
   "cell_type": "code",
   "execution_count": null,
   "id": "c4b2c9e6-ec82-48fa-bac8-170fca830254",
   "metadata": {},
   "outputs": [],
   "source": [
    "# for all above, define functions now so we ca parse all repositories for all pages"
   ]
  },
  {
   "cell_type": "code",
   "execution_count": 203,
   "id": "e88b5ee9-05af-4fb1-9d81-9b224b9591dd",
   "metadata": {},
   "outputs": [
    {
     "data": {
      "text/plain": [
       "'101k'"
      ]
     },
     "execution_count": 203,
     "metadata": {},
     "output_type": "execute_result"
    }
   ],
   "source": [
    "star_tags[0].text"
   ]
  },
  {
   "cell_type": "code",
   "execution_count": 206,
   "id": "042fda1f-a62d-477b-8551-7d89bb455c59",
   "metadata": {},
   "outputs": [],
   "source": [
    "#gives all info about a repository\n",
    "def get_repo_info(h3_tag, star_tags , relat_tag):\n",
    "    a_tags = h3_tag.find_all('a')\n",
    "    username = a_tags[0].text.strip()\n",
    "    repo_name = a_tags[1].text.strip()\n",
    "    repo_url = base_url + a_tags[1]['href']\n",
    "    stars = parse_star_count(star_tags.text)\n",
    "    related_tags = get_related_tags( relat_tag)\n",
    "    return username, repo_name, stars, related_tags, repo_url\n",
    "    "
   ]
  },
  {
   "cell_type": "code",
   "execution_count": 208,
   "id": "63736d46-6759-4bbd-9ff1-d3ee68370a07",
   "metadata": {},
   "outputs": [
    {
     "data": {
      "text/plain": [
       "('pmndrs',\n",
       " 'react-three-fiber',\n",
       " 26900,\n",
       " ' react  threejs  animation  renderer  fiber  3d ',\n",
       " 'https://github.com/pmndrs/react-three-fiber')"
      ]
     },
     "execution_count": 208,
     "metadata": {},
     "output_type": "execute_result"
    }
   ],
   "source": [
    "get_repo_info(repo_tags[1], star_tags[1] , rel_tag_all[1])"
   ]
  },
  {
   "cell_type": "code",
   "execution_count": 210,
   "id": "2530889b-6741-4a9b-9dce-4a6b41305030",
   "metadata": {},
   "outputs": [],
   "source": [
    "topic_repos_dict = {\n",
    "    'username' : [],\n",
    "    'repo_name' : [],\n",
    "    'stars' : [],\n",
    "    'related tags' : [],\n",
    "    'repo_url' : []\n",
    "}\n",
    "\n",
    "\n",
    "\n",
    "for i in range(len(repo_tags)):\n",
    "    repo_info = get_repo_info(repo_tags[i], star_tags[i] , rel_tag_all[i])\n",
    "    topic_repos_dict['username'].append(repo_info[0])\n",
    "    topic_repos_dict['repo_name'].append(repo_info[1])\n",
    "    topic_repos_dict['stars'].append(repo_info[2])\n",
    "    topic_repos_dict['related tags'].append(repo_info[3]),\n",
    "    topic_repos_dict['repo_url'].append(repo_info[4])"
   ]
  },
  {
   "cell_type": "code",
   "execution_count": 211,
   "id": "b7982143-ac17-472c-a6a4-7e7556fda31f",
   "metadata": {},
   "outputs": [
    {
     "data": {
      "text/plain": [
       "{'username': ['mrdoob',\n",
       "  'pmndrs',\n",
       "  'libgdx',\n",
       "  'BabylonJS',\n",
       "  'ssloy',\n",
       "  'FreeCAD',\n",
       "  'lettier',\n",
       "  'aframevr',\n",
       "  'CesiumGS',\n",
       "  'blender',\n",
       "  'MonoGame',\n",
       "  'isl-org',\n",
       "  'mapbox',\n",
       "  'metafizzy',\n",
       "  'timzhang642',\n",
       "  'nerfstudio-project',\n",
       "  '4ian',\n",
       "  'a1studmuffin',\n",
       "  'FyroxEngine',\n",
       "  'domlysz'],\n",
       " 'repo_name': ['three.js',\n",
       "  'react-three-fiber',\n",
       "  'libgdx',\n",
       "  'Babylon.js',\n",
       "  'tinyrenderer',\n",
       "  'FreeCAD',\n",
       "  '3d-game-shaders-for-beginners',\n",
       "  'aframe',\n",
       "  'cesium',\n",
       "  'blender',\n",
       "  'MonoGame',\n",
       "  'Open3D',\n",
       "  'mapbox-gl-js',\n",
       "  'zdog',\n",
       "  '3D-Machine-Learning',\n",
       "  'nerfstudio',\n",
       "  'GDevelop',\n",
       "  'SpaceshipGenerator',\n",
       "  'Fyrox',\n",
       "  'BlenderGIS'],\n",
       " 'stars': [101000,\n",
       "  26900,\n",
       "  23100,\n",
       "  22900,\n",
       "  20100,\n",
       "  18600,\n",
       "  17600,\n",
       "  16500,\n",
       "  12600,\n",
       "  12500,\n",
       "  11200,\n",
       "  11000,\n",
       "  11000,\n",
       "  10300,\n",
       "  9600,\n",
       "  9100,\n",
       "  8600,\n",
       "  7600,\n",
       "  7600,\n",
       "  7600],\n",
       " 'related tags': [' javascript  svg  webgl  html5  canvas  augmented-reality  webaudio  virtual-reality  webgl2  3d  webgpu  webxr ',\n",
       "  ' react  threejs  animation  renderer  fiber  3d ',\n",
       "  ' android  game  java  windows  linux  ios  gamedev  framework  html5  cross-platform  game-engine  libgdx  game-development  macosx  3d  2d ',\n",
       "  ' webgl  typescript  game-engine  webvr  game-development  webaudio  babylon  webgl2  game-engine-3d  3d  webgpu  webxr ',\n",
       "  ' learning  c-plus-plus  fun  tutorial  opengl  cpp  shaders  picture  graphics  software-rendering  engine  rendering  images  computer-graphics  pixels  rasterizer  rendering-engine  rendering-pipeline  3d  3d-graphics ',\n",
       "  ' windows  linux  engineering  architecture  cad  mac-osx  fem  coin  bim  freecad  3d-printing  3d  opencascade ',\n",
       "  ' gamedev  webgl  opengl  unity  shaders  graphics  vulkan  game-development  glsl  shader  unity3d  godot  graphics-programming  hlsl  panda3d  glsl-shader  indiedev  glsl-shaders  3d  3d-graphics ',\n",
       "  ' html  gamedev  webgl  threejs  game-engine  augmented-reality  vr  webvr  virtualreality  vive  oculus  rift  game-development  ecs  aframe  virtual-reality  metaverse  daydream  3d  webxr ',\n",
       "  ' webgl  geospatial  gis  cesium  czml  gltf  3d  3d-globe  3d-tiles ',\n",
       "  ' animation  rendering  computer-graphics  modeling  b3d  3d ',\n",
       "  ' c-sharp  open-source  gamedev  xna  csharp  cross-platform  game-engine  dotnet  graphics  game-development  game-framework  monogame  3d ',\n",
       "  ' visualization  python  machine-learning  arm  gui  opengl  cpp  tensorflow  gpu  rendering  computer-graphics  cuda  pytorch  registration  reconstruction  3d  odometry  pointcloud  mesh-processing  3d-perception ',\n",
       "  ' javascript  webgl  maps  priority  3d ',\n",
       "  ' svg  canvas  3d ',\n",
       "  ' machine-learning  voxel  point-cloud  primitives  mesh  neural-networks  papers  constructive-solid-geometries  3d  3d-reconstruction ',\n",
       "  ' machine-learning  computer-vision  deep-learning  pytorch  photogrammetry  nerf  3d  3d-reconstruction  3d-graphics  gaussian-splatting ',\n",
       "  ' javascript  game  open-source  c-plus-plus  gamedev  html5  game-engine  multiplayer  game-development  game-2d  gamemaker  gdevelop  game-3d  hacktoberfest  3d  3d-game-engine  2d-game  2d-game-engine  3d-game  html5-game-engine ',\n",
       "  ' python  procedural-generation  blender-scripts  game-development  3d  spaceship ',\n",
       "  ' rust  gamedev  gui  game-engine  engine  rendering  game-development  rust-lang  3d  3d-engine ',\n",
       "  ' python  map  blender  addon  openstreetmap  geospatial  gis  geodata  raster  shapefile  georeferencing  dem  3d  delaunay-triangulation  3dgis  importexport  terrain-model  basemap  3d-map '],\n",
       " 'repo_url': ['https://github.com/mrdoob/three.js',\n",
       "  'https://github.com/pmndrs/react-three-fiber',\n",
       "  'https://github.com/libgdx/libgdx',\n",
       "  'https://github.com/BabylonJS/Babylon.js',\n",
       "  'https://github.com/ssloy/tinyrenderer',\n",
       "  'https://github.com/FreeCAD/FreeCAD',\n",
       "  'https://github.com/lettier/3d-game-shaders-for-beginners',\n",
       "  'https://github.com/aframevr/aframe',\n",
       "  'https://github.com/CesiumGS/cesium',\n",
       "  'https://github.com/blender/blender',\n",
       "  'https://github.com/MonoGame/MonoGame',\n",
       "  'https://github.com/isl-org/Open3D',\n",
       "  'https://github.com/mapbox/mapbox-gl-js',\n",
       "  'https://github.com/metafizzy/zdog',\n",
       "  'https://github.com/timzhang642/3D-Machine-Learning',\n",
       "  'https://github.com/nerfstudio-project/nerfstudio',\n",
       "  'https://github.com/4ian/GDevelop',\n",
       "  'https://github.com/a1studmuffin/SpaceshipGenerator',\n",
       "  'https://github.com/FyroxEngine/Fyrox',\n",
       "  'https://github.com/domlysz/BlenderGIS']}"
      ]
     },
     "execution_count": 211,
     "metadata": {},
     "output_type": "execute_result"
    }
   ],
   "source": [
    "topic_repos_dict"
   ]
  },
  {
   "cell_type": "code",
   "execution_count": 213,
   "id": "6e80a787-5b75-4bb0-8a7b-fda248bf0476",
   "metadata": {},
   "outputs": [],
   "source": [
    "topic_repos_df= pd.DataFrame(topic_repos_dict)"
   ]
  },
  {
   "cell_type": "code",
   "execution_count": 214,
   "id": "50ab1375-cf76-457f-9c73-14070a2a3eeb",
   "metadata": {},
   "outputs": [
    {
     "data": {
      "text/html": [
       "<div>\n",
       "<style scoped>\n",
       "    .dataframe tbody tr th:only-of-type {\n",
       "        vertical-align: middle;\n",
       "    }\n",
       "\n",
       "    .dataframe tbody tr th {\n",
       "        vertical-align: top;\n",
       "    }\n",
       "\n",
       "    .dataframe thead th {\n",
       "        text-align: right;\n",
       "    }\n",
       "</style>\n",
       "<table border=\"1\" class=\"dataframe\">\n",
       "  <thead>\n",
       "    <tr style=\"text-align: right;\">\n",
       "      <th></th>\n",
       "      <th>username</th>\n",
       "      <th>repo_name</th>\n",
       "      <th>stars</th>\n",
       "      <th>related tags</th>\n",
       "      <th>repo_url</th>\n",
       "    </tr>\n",
       "  </thead>\n",
       "  <tbody>\n",
       "    <tr>\n",
       "      <th>0</th>\n",
       "      <td>mrdoob</td>\n",
       "      <td>three.js</td>\n",
       "      <td>101000</td>\n",
       "      <td>javascript  svg  webgl  html5  canvas  augmen...</td>\n",
       "      <td>https://github.com/mrdoob/three.js</td>\n",
       "    </tr>\n",
       "    <tr>\n",
       "      <th>1</th>\n",
       "      <td>pmndrs</td>\n",
       "      <td>react-three-fiber</td>\n",
       "      <td>26900</td>\n",
       "      <td>react  threejs  animation  renderer  fiber  3d</td>\n",
       "      <td>https://github.com/pmndrs/react-three-fiber</td>\n",
       "    </tr>\n",
       "    <tr>\n",
       "      <th>2</th>\n",
       "      <td>libgdx</td>\n",
       "      <td>libgdx</td>\n",
       "      <td>23100</td>\n",
       "      <td>android  game  java  windows  linux  ios  gam...</td>\n",
       "      <td>https://github.com/libgdx/libgdx</td>\n",
       "    </tr>\n",
       "    <tr>\n",
       "      <th>3</th>\n",
       "      <td>BabylonJS</td>\n",
       "      <td>Babylon.js</td>\n",
       "      <td>22900</td>\n",
       "      <td>webgl  typescript  game-engine  webvr  game-d...</td>\n",
       "      <td>https://github.com/BabylonJS/Babylon.js</td>\n",
       "    </tr>\n",
       "    <tr>\n",
       "      <th>4</th>\n",
       "      <td>ssloy</td>\n",
       "      <td>tinyrenderer</td>\n",
       "      <td>20100</td>\n",
       "      <td>learning  c-plus-plus  fun  tutorial  opengl ...</td>\n",
       "      <td>https://github.com/ssloy/tinyrenderer</td>\n",
       "    </tr>\n",
       "    <tr>\n",
       "      <th>5</th>\n",
       "      <td>FreeCAD</td>\n",
       "      <td>FreeCAD</td>\n",
       "      <td>18600</td>\n",
       "      <td>windows  linux  engineering  architecture  ca...</td>\n",
       "      <td>https://github.com/FreeCAD/FreeCAD</td>\n",
       "    </tr>\n",
       "    <tr>\n",
       "      <th>6</th>\n",
       "      <td>lettier</td>\n",
       "      <td>3d-game-shaders-for-beginners</td>\n",
       "      <td>17600</td>\n",
       "      <td>gamedev  webgl  opengl  unity  shaders  graph...</td>\n",
       "      <td>https://github.com/lettier/3d-game-shaders-for...</td>\n",
       "    </tr>\n",
       "    <tr>\n",
       "      <th>7</th>\n",
       "      <td>aframevr</td>\n",
       "      <td>aframe</td>\n",
       "      <td>16500</td>\n",
       "      <td>html  gamedev  webgl  threejs  game-engine  a...</td>\n",
       "      <td>https://github.com/aframevr/aframe</td>\n",
       "    </tr>\n",
       "    <tr>\n",
       "      <th>8</th>\n",
       "      <td>CesiumGS</td>\n",
       "      <td>cesium</td>\n",
       "      <td>12600</td>\n",
       "      <td>webgl  geospatial  gis  cesium  czml  gltf  3...</td>\n",
       "      <td>https://github.com/CesiumGS/cesium</td>\n",
       "    </tr>\n",
       "    <tr>\n",
       "      <th>9</th>\n",
       "      <td>blender</td>\n",
       "      <td>blender</td>\n",
       "      <td>12500</td>\n",
       "      <td>animation  rendering  computer-graphics  mode...</td>\n",
       "      <td>https://github.com/blender/blender</td>\n",
       "    </tr>\n",
       "    <tr>\n",
       "      <th>10</th>\n",
       "      <td>MonoGame</td>\n",
       "      <td>MonoGame</td>\n",
       "      <td>11200</td>\n",
       "      <td>c-sharp  open-source  gamedev  xna  csharp  c...</td>\n",
       "      <td>https://github.com/MonoGame/MonoGame</td>\n",
       "    </tr>\n",
       "    <tr>\n",
       "      <th>11</th>\n",
       "      <td>isl-org</td>\n",
       "      <td>Open3D</td>\n",
       "      <td>11000</td>\n",
       "      <td>visualization  python  machine-learning  arm ...</td>\n",
       "      <td>https://github.com/isl-org/Open3D</td>\n",
       "    </tr>\n",
       "    <tr>\n",
       "      <th>12</th>\n",
       "      <td>mapbox</td>\n",
       "      <td>mapbox-gl-js</td>\n",
       "      <td>11000</td>\n",
       "      <td>javascript  webgl  maps  priority  3d</td>\n",
       "      <td>https://github.com/mapbox/mapbox-gl-js</td>\n",
       "    </tr>\n",
       "    <tr>\n",
       "      <th>13</th>\n",
       "      <td>metafizzy</td>\n",
       "      <td>zdog</td>\n",
       "      <td>10300</td>\n",
       "      <td>svg  canvas  3d</td>\n",
       "      <td>https://github.com/metafizzy/zdog</td>\n",
       "    </tr>\n",
       "    <tr>\n",
       "      <th>14</th>\n",
       "      <td>timzhang642</td>\n",
       "      <td>3D-Machine-Learning</td>\n",
       "      <td>9600</td>\n",
       "      <td>machine-learning  voxel  point-cloud  primiti...</td>\n",
       "      <td>https://github.com/timzhang642/3D-Machine-Lear...</td>\n",
       "    </tr>\n",
       "    <tr>\n",
       "      <th>15</th>\n",
       "      <td>nerfstudio-project</td>\n",
       "      <td>nerfstudio</td>\n",
       "      <td>9100</td>\n",
       "      <td>machine-learning  computer-vision  deep-learn...</td>\n",
       "      <td>https://github.com/nerfstudio-project/nerfstudio</td>\n",
       "    </tr>\n",
       "    <tr>\n",
       "      <th>16</th>\n",
       "      <td>4ian</td>\n",
       "      <td>GDevelop</td>\n",
       "      <td>8600</td>\n",
       "      <td>javascript  game  open-source  c-plus-plus  g...</td>\n",
       "      <td>https://github.com/4ian/GDevelop</td>\n",
       "    </tr>\n",
       "    <tr>\n",
       "      <th>17</th>\n",
       "      <td>a1studmuffin</td>\n",
       "      <td>SpaceshipGenerator</td>\n",
       "      <td>7600</td>\n",
       "      <td>python  procedural-generation  blender-script...</td>\n",
       "      <td>https://github.com/a1studmuffin/SpaceshipGener...</td>\n",
       "    </tr>\n",
       "    <tr>\n",
       "      <th>18</th>\n",
       "      <td>FyroxEngine</td>\n",
       "      <td>Fyrox</td>\n",
       "      <td>7600</td>\n",
       "      <td>rust  gamedev  gui  game-engine  engine  rend...</td>\n",
       "      <td>https://github.com/FyroxEngine/Fyrox</td>\n",
       "    </tr>\n",
       "    <tr>\n",
       "      <th>19</th>\n",
       "      <td>domlysz</td>\n",
       "      <td>BlenderGIS</td>\n",
       "      <td>7600</td>\n",
       "      <td>python  map  blender  addon  openstreetmap  g...</td>\n",
       "      <td>https://github.com/domlysz/BlenderGIS</td>\n",
       "    </tr>\n",
       "  </tbody>\n",
       "</table>\n",
       "</div>"
      ],
      "text/plain": [
       "              username                      repo_name   stars  \\\n",
       "0               mrdoob                       three.js  101000   \n",
       "1               pmndrs              react-three-fiber   26900   \n",
       "2               libgdx                         libgdx   23100   \n",
       "3            BabylonJS                     Babylon.js   22900   \n",
       "4                ssloy                   tinyrenderer   20100   \n",
       "5              FreeCAD                        FreeCAD   18600   \n",
       "6              lettier  3d-game-shaders-for-beginners   17600   \n",
       "7             aframevr                         aframe   16500   \n",
       "8             CesiumGS                         cesium   12600   \n",
       "9              blender                        blender   12500   \n",
       "10            MonoGame                       MonoGame   11200   \n",
       "11             isl-org                         Open3D   11000   \n",
       "12              mapbox                   mapbox-gl-js   11000   \n",
       "13           metafizzy                           zdog   10300   \n",
       "14         timzhang642            3D-Machine-Learning    9600   \n",
       "15  nerfstudio-project                     nerfstudio    9100   \n",
       "16                4ian                       GDevelop    8600   \n",
       "17        a1studmuffin             SpaceshipGenerator    7600   \n",
       "18         FyroxEngine                          Fyrox    7600   \n",
       "19             domlysz                     BlenderGIS    7600   \n",
       "\n",
       "                                         related tags  \\\n",
       "0    javascript  svg  webgl  html5  canvas  augmen...   \n",
       "1     react  threejs  animation  renderer  fiber  3d    \n",
       "2    android  game  java  windows  linux  ios  gam...   \n",
       "3    webgl  typescript  game-engine  webvr  game-d...   \n",
       "4    learning  c-plus-plus  fun  tutorial  opengl ...   \n",
       "5    windows  linux  engineering  architecture  ca...   \n",
       "6    gamedev  webgl  opengl  unity  shaders  graph...   \n",
       "7    html  gamedev  webgl  threejs  game-engine  a...   \n",
       "8    webgl  geospatial  gis  cesium  czml  gltf  3...   \n",
       "9    animation  rendering  computer-graphics  mode...   \n",
       "10   c-sharp  open-source  gamedev  xna  csharp  c...   \n",
       "11   visualization  python  machine-learning  arm ...   \n",
       "12             javascript  webgl  maps  priority  3d    \n",
       "13                                   svg  canvas  3d    \n",
       "14   machine-learning  voxel  point-cloud  primiti...   \n",
       "15   machine-learning  computer-vision  deep-learn...   \n",
       "16   javascript  game  open-source  c-plus-plus  g...   \n",
       "17   python  procedural-generation  blender-script...   \n",
       "18   rust  gamedev  gui  game-engine  engine  rend...   \n",
       "19   python  map  blender  addon  openstreetmap  g...   \n",
       "\n",
       "                                             repo_url  \n",
       "0                  https://github.com/mrdoob/three.js  \n",
       "1         https://github.com/pmndrs/react-three-fiber  \n",
       "2                    https://github.com/libgdx/libgdx  \n",
       "3             https://github.com/BabylonJS/Babylon.js  \n",
       "4               https://github.com/ssloy/tinyrenderer  \n",
       "5                  https://github.com/FreeCAD/FreeCAD  \n",
       "6   https://github.com/lettier/3d-game-shaders-for...  \n",
       "7                  https://github.com/aframevr/aframe  \n",
       "8                  https://github.com/CesiumGS/cesium  \n",
       "9                  https://github.com/blender/blender  \n",
       "10               https://github.com/MonoGame/MonoGame  \n",
       "11                  https://github.com/isl-org/Open3D  \n",
       "12             https://github.com/mapbox/mapbox-gl-js  \n",
       "13                  https://github.com/metafizzy/zdog  \n",
       "14  https://github.com/timzhang642/3D-Machine-Lear...  \n",
       "15   https://github.com/nerfstudio-project/nerfstudio  \n",
       "16                   https://github.com/4ian/GDevelop  \n",
       "17  https://github.com/a1studmuffin/SpaceshipGener...  \n",
       "18               https://github.com/FyroxEngine/Fyrox  \n",
       "19              https://github.com/domlysz/BlenderGIS  "
      ]
     },
     "execution_count": 214,
     "metadata": {},
     "output_type": "execute_result"
    }
   ],
   "source": [
    "topic_repos_df"
   ]
  },
  {
   "cell_type": "code",
   "execution_count": 215,
   "id": "636fec80-fe15-4dbd-a6bf-956b0de4f17d",
   "metadata": {},
   "outputs": [],
   "source": [
    "#now we just did this for first topic, we have 19 more topics to go each having 20 repositories"
   ]
  },
  {
   "cell_type": "code",
   "execution_count": null,
   "id": "a862abda-2802-478d-ba8c-c8764d1c5bf5",
   "metadata": {},
   "outputs": [],
   "source": []
  },
  {
   "cell_type": "code",
   "execution_count": null,
   "id": "3c8795c6-aaa7-4b85-97ed-3e900a2cdea8",
   "metadata": {},
   "outputs": [],
   "source": []
  },
  {
   "cell_type": "code",
   "execution_count": null,
   "id": "f6cf93ea-9865-488d-bf44-5373097f53f4",
   "metadata": {},
   "outputs": [],
   "source": []
  },
  {
   "cell_type": "markdown",
   "id": "2f092d96-2fa7-4e2c-82e3-76f0d388a47d",
   "metadata": {},
   "source": [
    "# final code"
   ]
  },
  {
   "cell_type": "markdown",
   "id": "d1bf3ec6-5969-4886-afa5-a122eb709c48",
   "metadata": {},
   "source": [
    "## code for getting info from each repository"
   ]
  },
  {
   "cell_type": "code",
   "execution_count": 379,
   "id": "1b85a903-cd78-4136-8edc-d024305ab261",
   "metadata": {},
   "outputs": [],
   "source": [
    "import os\n",
    "def get_topic_page(topic_url):\n",
    "    # Download page\n",
    "    response = requests.get(topic_url)\n",
    "    # Check status code\n",
    "    if response.status_code !=200:\n",
    "        raise Exception('failed to load page{}'.format(topic_url))\n",
    "    # Parse using beautifulsoup\n",
    "    topic_doc = BeautifulSoup(response.text, 'html.parser')\n",
    "    return topic_doc\n",
    "\n",
    "#gives all info about a repository\n",
    "def get_repo_info(h3_tag, star_tags , relat_tag):\n",
    "    a_tags = h3_tag.find_all('a')\n",
    "    username = a_tags[0].text.strip()\n",
    "    repo_name = a_tags[1].text.strip()\n",
    "    repo_url = base_url + a_tags[1]['href']\n",
    "    stars = parse_star_count(star_tags.text)\n",
    "    related_tags = get_related_tags( relat_tag)\n",
    "    return username, repo_name, stars, related_tags, repo_url\n",
    "\n",
    "def get_topic_repos(topic_doc):\n",
    "    # For repo title, repo URL and username\n",
    "    repo_tags = topic_doc.find_all('h3', {'class' : 'f3 color-fg-muted text-normal lh-condensed'})\n",
    "    # For stars\n",
    "    star_tags = topic_doc.find_all('span', {'class' : 'Counter js-social-count'})\n",
    "    # For related tags \n",
    "    rel_tag_all = topic_doc.find_all('div', {'class':'d-flex flex-wrap border-bottom color-border-muted px-3 pt-2 pb-2'})\n",
    "    # rel_tag =  rel_tag_all[0].find_all('a'\n",
    "\n",
    "    topic_repos_dict = {\n",
    "    'username' : [],\n",
    "    'repo_name' : [],\n",
    "    'stars' : [],\n",
    "    'related tags' : [],\n",
    "    'repo_url' : []\n",
    "}\n",
    "    #get repo info\n",
    "    for i in range(len(repo_tags)):\n",
    "        repo_info = get_repo_info(repo_tags[i], star_tags[i] , rel_tag_all[i])\n",
    "        topic_repos_dict['username'].append(repo_info[0])\n",
    "        topic_repos_dict['repo_name'].append(repo_info[1])\n",
    "        topic_repos_dict['stars'].append(repo_info[2])\n",
    "        topic_repos_dict['related tags'].append(repo_info[3]),\n",
    "        topic_repos_dict['repo_url'].append(repo_info[4])\n",
    "\n",
    "\n",
    "\n",
    "    return pd.DataFrame( topic_repos_dict )\n",
    "\n",
    "\n",
    "def scrape_topic(topic_url,path):\n",
    "    # for this topic, this function will create a df to csv\n",
    "    if os.path.exists(path):\n",
    "        print('The file {} already exists. Skipping...'.format(path))\n",
    "        return \n",
    "    topic_df = get_topic_repos(get_topic_page(topic_url))\n",
    "    topic_df.to_csv(path, index= None)\n",
    "     "
   ]
  },
  {
   "cell_type": "markdown",
   "id": "121468dd-2c59-4c0f-8dbf-7cea5a3ff21e",
   "metadata": {},
   "source": [
    "# write a single function  to:\n",
    "    1. get the list of topics from topic page\n",
    "    2. get the list of top repos from each topic page\n",
    "    3. create a csv for each topic's top repos"
   ]
  },
  {
   "cell_type": "markdown",
   "id": "45b3969c-f095-4f8c-8510-0ce8d31ae376",
   "metadata": {},
   "source": [
    "## code to get info for each topic "
   ]
  },
  {
   "cell_type": "code",
   "execution_count": 380,
   "id": "f992879c-728a-474a-981a-2e2aad016153",
   "metadata": {},
   "outputs": [],
   "source": [
    "\n",
    "# returns list of topic titles(github/topics)\n",
    "def get_topic_titles(doc):\n",
    "    topic_title_tags = doc.find_all('p',{\"class\":\"f3 lh-condensed mb-0 mt-1 Link--primary\"})\n",
    "    topic_titles = [ ]\n",
    "    #to get list of topics\n",
    "    for tag in topic_title_tags:\n",
    "        topic_titles.append(tag.text)\n",
    "    return topic_titles\n",
    "\n",
    "#returns list of topic description(github/desc)\n",
    "def get_topic_descs(doc):\n",
    "    desc_selector = \"f5 color-fg-muted mb-0 mt-1\"   \n",
    "    topic_desc_tags = doc.find_all('p',{'class':desc_selector})\n",
    "    topic_descs = [ ]\n",
    "    for tag in topic_desc_tags:\n",
    "        topic_descs.append(tag.text.strip())\n",
    "    return topic_descs\n",
    "\n",
    "def get_topic_urls(doc):\n",
    "    topic_link_tags = doc.find_all('a',{'class':'no-underline flex-grow-0'})\n",
    "    topic_urls = [ ]\n",
    "    for tag in topic_link_tags:\n",
    "        topic_urls.append('https://github.com' + tag['href'])\n",
    "    return topic_urls\n",
    "\n",
    "\n",
    "def scrape_topics():\n",
    "    topics_url = 'https://github.com/topics'\n",
    "    response = requests.get(topics_url)\n",
    "     # Check status code\n",
    "    if response.status_code !=200:\n",
    "        raise Exception('failed to load page{}'.format(topic_url))\n",
    "    # Create a topic dict \n",
    "    topics_dict = {\n",
    "        'title' : get_topic_titles(doc),\n",
    "        'desc': get_topic_descs(doc),\n",
    "        'url' : get_topic_urls(doc)\n",
    "    }\n",
    "    return pd.DataFrame(topics_dict)\n",
    "\n",
    "\n"
   ]
  },
  {
   "cell_type": "code",
   "execution_count": 382,
   "id": "0affdad9-d71d-425a-a5f6-cc5446bf726b",
   "metadata": {},
   "outputs": [],
   "source": [
    "# Scrape repos for each topic now\n",
    "def scrape_topics_repos():\n",
    "    topics_df = scrape_topics()\n",
    "    \n",
    "    os.makedirs('data', exist_ok=True)\n",
    "    for index, row in topics_df.iterrows():\n",
    "        print('scraping top repositories for \"{}\"  '.format(row['title']))\n",
    "        scrape_topic(row['url'], 'data/{}.csv'.format(row['title'])  )      "
   ]
  },
  {
   "cell_type": "code",
   "execution_count": 383,
   "id": "424ed859-18d5-4ee4-994f-2a20bfd79876",
   "metadata": {},
   "outputs": [
    {
     "name": "stdout",
     "output_type": "stream",
     "text": [
      "scraping top repositories for \"3D\"  \n",
      "scraping top repositories for \"Ajax\"  \n",
      "scraping top repositories for \"Algorithm\"  \n",
      "scraping top repositories for \"Amp\"  \n",
      "scraping top repositories for \"Android\"  \n",
      "scraping top repositories for \"Angular\"  \n",
      "scraping top repositories for \"Ansible\"  \n",
      "scraping top repositories for \"API\"  \n",
      "scraping top repositories for \"Arduino\"  \n",
      "scraping top repositories for \"ASP.NET\"  \n",
      "scraping top repositories for \"Awesome Lists\"  \n",
      "scraping top repositories for \"Amazon Web Services\"  \n",
      "scraping top repositories for \"Azure\"  \n",
      "scraping top repositories for \"Babel\"  \n",
      "scraping top repositories for \"Bash\"  \n",
      "scraping top repositories for \"Bitcoin\"  \n",
      "scraping top repositories for \"Bootstrap\"  \n",
      "scraping top repositories for \"Bot\"  \n",
      "scraping top repositories for \"C\"  \n",
      "scraping top repositories for \"Chrome\"  \n",
      "scraping top repositories for \"Chrome extension\"  \n",
      "scraping top repositories for \"Command-line interface\"  \n",
      "scraping top repositories for \"Clojure\"  \n",
      "scraping top repositories for \"Code quality\"  \n",
      "scraping top repositories for \"Code review\"  \n",
      "scraping top repositories for \"Compiler\"  \n",
      "scraping top repositories for \"Continuous integration\"  \n",
      "scraping top repositories for \"C++\"  \n",
      "scraping top repositories for \"Cryptocurrency\"  \n",
      "scraping top repositories for \"Crystal\"  \n"
     ]
    }
   ],
   "source": [
    "scrape_topics_repos()"
   ]
  },
  {
   "cell_type": "markdown",
   "id": "29878a38-eb14-48b5-99d9-ae39119b41e0",
   "metadata": {},
   "source": [
    "## Identify which tags are associated with the most stars overall\n",
    "- calculate the total number of stars associated with each tag across all repositories and then sorts the tags by their popularity (total stars)\n",
    "- or simply calculate and sort tags by their total stars across repositories\n",
    "\n"
   ]
  },
  {
   "cell_type": "code",
   "execution_count": 400,
   "id": "cabcb793-9ea1-40a5-9d9a-527994589f1b",
   "metadata": {},
   "outputs": [
    {
     "name": "stdout",
     "output_type": "stream",
     "text": [
      "Processing file: 3D.csv\n",
      "Processing file: Ajax.csv\n",
      "Processing file: Algorithm.csv\n",
      "Processing file: Amazon Web Services.csv\n",
      "Processing file: Amp.csv\n",
      "Processing file: Android.csv\n",
      "Processing file: Angular.csv\n",
      "Processing file: Ansible.csv\n",
      "Processing file: API.csv\n",
      "Processing file: Arduino.csv\n",
      "Processing file: ASP.NET.csv\n",
      "Processing file: Awesome Lists.csv\n",
      "Processing file: Azure.csv\n",
      "Processing file: Babel.csv\n",
      "Processing file: Bash.csv\n",
      "Processing file: Bitcoin.csv\n",
      "Processing file: Bootstrap.csv\n",
      "Processing file: Bot.csv\n",
      "Processing file: C++.csv\n",
      "Processing file: C.csv\n",
      "Processing file: Chrome extension.csv\n",
      "Processing file: Chrome.csv\n",
      "Processing file: Clojure.csv\n",
      "Processing file: Code quality.csv\n",
      "Processing file: Code review.csv\n",
      "Processing file: Command-line interface.csv\n",
      "Processing file: Compiler.csv\n",
      "Processing file: Continuous integration.csv\n",
      "Processing file: Cryptocurrency.csv\n",
      "Processing file: Crystal.csv\n",
      "                  Tag Name    Stars  \\\n",
      "0               javascript  3326084   \n",
      "1                   python  2877257   \n",
      "2                  awesome  2402298   \n",
      "3            hacktoberfest  2200246   \n",
      "4                algorithm  1957600   \n",
      "..                     ...      ...   \n",
      "95                 graphql   342900   \n",
      "96  algorithm-competitions   338500   \n",
      "97                 flutter   336600   \n",
      "98                tutorial   328100   \n",
      "99              containers   322200   \n",
      "\n",
      "                                            Repo URLs  \n",
      "0   https://github.com/mrdoob/three.js, https://gi...  \n",
      "1   https://github.com/isl-org/Open3D, https://git...  \n",
      "2   https://github.com/Hack-with-Github/Awesome-Ha...  \n",
      "3   https://github.com/4ian/GDevelop, https://gith...  \n",
      "4   https://github.com/jwasham/coding-interview-un...  \n",
      "..                                                ...  \n",
      "95  https://github.com/prettier/prettier, https://...  \n",
      "96  https://github.com/TheAlgorithms/Python, https...  \n",
      "97  https://github.com/flutter/flutter, https://gi...  \n",
      "98  https://github.com/ssloy/tinyrenderer, https:/...  \n",
      "99  https://github.com/bregman-arie/devops-exercis...  \n",
      "\n",
      "[100 rows x 3 columns]\n"
     ]
    }
   ],
   "source": [
    "import numpy as np\n",
    "import pandas as pd\n",
    "import os\n",
    "\n",
    "def load_and_split_tags(file_path):\n",
    "    df = pd.read_csv(file_path)\n",
    "    stars = df['stars'].values  # Convert the stars column to a NumPy array\n",
    "    tags = df['related tags'].apply(lambda x: x.split())  # Split tags by spaces\n",
    "    repo_urls = df['repo_url'].values  # Get the repository URLs\n",
    "    return tags, stars, repo_urls\n",
    "\n",
    "def tag_based_analysis(directory):\n",
    "    tag_dict = {}\n",
    "\n",
    "    for filename in os.listdir(directory):\n",
    "        if filename.endswith(\".csv\"):\n",
    "            file_path = os.path.join(directory, filename)\n",
    "            print(f\"Processing file: {filename}\")\n",
    "            \n",
    "            tags, stars, repo_urls = load_and_split_tags(file_path)\n",
    "            \n",
    "            for i, tag_list in enumerate(tags):\n",
    "                for tag in tag_list:\n",
    "                    tag = tag.strip()\n",
    "                    if tag not in tag_dict:\n",
    "                        tag_dict[tag] = {'total_stars': 0, 'repo_urls': []}\n",
    "                    tag_dict[tag]['total_stars'] += stars[i]\n",
    "                    tag_dict[tag]['repo_urls'].append(repo_urls[i])\n",
    "    \n",
    "    return tag_dict\n",
    "\n",
    "def get_top_100_tags(tag_dict):\n",
    "    # Convert the dictionary to a list of tuples and sort by total stars\n",
    "    sorted_tags = sorted(tag_dict.items(), key=lambda item: item[1]['total_stars'], reverse=True)\n",
    "    \n",
    "    # Select the top 100 tags\n",
    "    top_100_tags = sorted_tags[:100]\n",
    "    \n",
    "    # Prepare the final DataFrame\n",
    "    top_tags_data = []\n",
    "    \n",
    "    for tag, data in top_100_tags:\n",
    "        # Join all repo URLs into a single string, separated by commas\n",
    "        repo_urls_combined = \", \".join(data['repo_urls'])\n",
    "        top_tags_data.append({\n",
    "            'Tag Name': tag,\n",
    "            'Stars': data['total_stars'],\n",
    "            'Repo URLs': repo_urls_combined\n",
    "        })\n",
    "    \n",
    "    top_tags_df = pd.DataFrame(top_tags_data)\n",
    "    \n",
    "    return top_tags_df\n",
    "\n",
    "# Example usage\n",
    "directory = 'data'  # Your directory with CSV files\n",
    "tag_dict = tag_based_analysis(directory)\n",
    "top_tags_df = get_top_100_tags(tag_dict)\n",
    "\n",
    "# Save the results to a CSV file\n",
    "top_tags_df.to_csv('top_100_tags_repos.csv', index=False)\n",
    "\n",
    "# Display the DataFrame\n",
    "print(top_tags_df)\n"
   ]
  },
  {
   "cell_type": "code",
   "execution_count": 402,
   "id": "c2e65333-8f0f-4259-b86d-3d0127f2edf6",
   "metadata": {},
   "outputs": [
    {
     "data": {
      "image/png": "[encoded data removed]",
      "text/plain": [
       "<Figure size 1000x600 with 1 Axes>"
      ]
     },
     "metadata": {},
     "output_type": "display_data"
    },
    {
     "data": {
      "image/png": "[encoded data removed]",
      "text/plain": [
       "<Figure size 800x800 with 1 Axes>"
      ]
     },
     "metadata": {},
     "output_type": "display_data"
    }
   ],
   "source": [
    "import pandas as pd\n",
    "import matplotlib.pyplot as plt\n",
    "\n",
    "# Load the DataFrame from the CSV file\n",
    "top_tags_df = pd.read_csv('top_100_tags_repos.csv')\n",
    "\n",
    "# Sort by stars and select the top 10 tags for visualization\n",
    "top_10_tags_df = top_tags_df.sort_values(by='Stars', ascending=False).head(10)\n",
    "\n",
    "# Scatter Plot: Relationship between the number of stars and the number of repositories using each tag\n",
    "plt.figure(figsize=(10, 6))\n",
    "plt.scatter(top_10_tags_df['Tag Name'], top_10_tags_df['Stars'], color='red', s=100)\n",
    "plt.xticks(rotation=45, ha='right')\n",
    "plt.xlabel('Tag Name')\n",
    "plt.ylabel('Total Stars')\n",
    "plt.title('Stars Distribution Across Top 10 Tags')\n",
    "plt.grid(True)\n",
    "plt.show()\n",
    "\n",
    "# Pie Chart: Proportion of stars for the top 10 tags\n",
    "plt.figure(figsize=(8, 8))\n",
    "plt.pie(top_10_tags_df['Stars'], labels=top_10_tags_df['Tag Name'], autopct='%1.1f%%', startangle=140)\n",
    "plt.title('Star Distribution Among Top 10 Tags')\n",
    "plt.show()\n"
   ]
  },
  {
   "cell_type": "code",
   "execution_count": null,
   "id": "44eb8d60-5a34-40a7-b0bf-077920721e46",
   "metadata": {},
   "outputs": [],
   "source": []
  },
  {
   "cell_type": "code",
   "execution_count": null,
   "id": "c91fb8b6-c64b-47d9-bbeb-ec666546de12",
   "metadata": {},
   "outputs": [],
   "source": []
  },
  {
   "cell_type": "code",
   "execution_count": null,
   "id": "1429efed-cd18-4f2e-a32b-31c4224571ef",
   "metadata": {},
   "outputs": [],
   "source": []
  }
 ],
 "metadata": {
  "kernelspec": {
   "display_name": "Python 3 (ipykernel)",
   "language": "python",
   "name": "python3"
  },
  "language_info": {
   "codemirror_mode": {
    "name": "ipython",
    "version": 3
   },
   "file_extension": ".py",
   "mimetype": "text/x-python",
   "name": "python",
   "nbconvert_exporter": "python",
   "pygments_lexer": "ipython3",
   "version": "3.11.7"
  }
 },
 "nbformat": 4,
 "nbformat_minor": 5
}
